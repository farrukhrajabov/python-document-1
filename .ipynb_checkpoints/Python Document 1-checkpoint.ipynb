{
 "cells": [
  {
   "cell_type": "markdown",
   "metadata": {},
   "source": [
    "# Week 2 - Monday Lesson (variable assignment, loops, lists)"
   ]
  },
  {
   "cell_type": "markdown",
   "metadata": {},
   "source": [
    "## Tasks Today:\n",
    "\n",
    "1) Int & Float assignments <br>\n",
    " &nbsp;&nbsp;&nbsp;&nbsp; a) Assigning int <br>\n",
    " &nbsp;&nbsp;&nbsp;&nbsp; b) Assigning float <br>\n",
    " &nbsp;&nbsp;&nbsp;&nbsp; c) Performing Calculations on ints and floats <br>\n",
    " &nbsp;&nbsp;&nbsp;&nbsp;&nbsp;&nbsp;&nbsp;&nbsp; - Addition <br>\n",
    " &nbsp;&nbsp;&nbsp;&nbsp;&nbsp;&nbsp;&nbsp;&nbsp; - Subtraction <br>\n",
    " &nbsp;&nbsp;&nbsp;&nbsp;&nbsp;&nbsp;&nbsp;&nbsp; - Multiplication <br>\n",
    " &nbsp;&nbsp;&nbsp;&nbsp;&nbsp;&nbsp;&nbsp;&nbsp; - Division <br>\n",
    " &nbsp;&nbsp;&nbsp;&nbsp;&nbsp;&nbsp;&nbsp;&nbsp; - Floor Division <br>\n",
    " &nbsp;&nbsp;&nbsp;&nbsp;&nbsp;&nbsp;&nbsp;&nbsp; - Modulo <br>\n",
    " &nbsp;&nbsp;&nbsp;&nbsp;&nbsp;&nbsp;&nbsp;&nbsp; - Exponential <br>\n",
    "2) String Input-Output <br>\n",
    " &nbsp;&nbsp;&nbsp;&nbsp; a) String Assignment <br>\n",
    " &nbsp;&nbsp;&nbsp;&nbsp; b) print() <br>\n",
    " &nbsp;&nbsp;&nbsp;&nbsp; c) String Concatenation <br>\n",
    " &nbsp;&nbsp;&nbsp;&nbsp; d) Type Conversion <br>\n",
    " &nbsp;&nbsp;&nbsp;&nbsp; e) input() <br>\n",
    " &nbsp;&nbsp;&nbsp;&nbsp; f) format() <br>\n",
    " &nbsp;&nbsp;&nbsp;&nbsp; g) Old Way (python 2) <br>\n",
    "3) <b>In-Class Exercise #1</b> <br>\n",
    "4) If Statements <br>\n",
    " &nbsp;&nbsp;&nbsp;&nbsp; a) 'is' keyword <br>\n",
    " &nbsp;&nbsp;&nbsp;&nbsp; b) 'in' keyword <br>\n",
    " &nbsp;&nbsp;&nbsp;&nbsp; c) 'not in' keyword <br>\n",
    "5) <b>In-Class Exercise #2</b> <br>\n",
    "6) Elif Statements <br>\n",
    "7) Else Statements <br>\n",
    "8) <b>In-Class Exercise #3</b> <br>\n",
    "9) For Loops <br>\n",
    " &nbsp;&nbsp;&nbsp;&nbsp; a) Using 'in' keyword <br>\n",
    " &nbsp;&nbsp;&nbsp;&nbsp; b) Continue Statement <br>\n",
    " &nbsp;&nbsp;&nbsp;&nbsp; c) Break Statement <br>\n",
    " &nbsp;&nbsp;&nbsp;&nbsp; d) Pass Statement <br>\n",
    " &nbsp;&nbsp;&nbsp;&nbsp; e) Double For Loops <br>\n",
    "10) While Loops <br>\n",
    " &nbsp;&nbsp;&nbsp;&nbsp; a) Looping 'While True' <br>\n",
    " &nbsp;&nbsp;&nbsp;&nbsp; b) While and For Loops Used Together <br>\n",
    "11) Built-In Functions <br>\n",
    " &nbsp;&nbsp;&nbsp;&nbsp; a) range() <br>\n",
    " &nbsp;&nbsp;&nbsp;&nbsp; b) len() <br>\n",
    " &nbsp;&nbsp;&nbsp;&nbsp; c) help() <br>\n",
    " &nbsp;&nbsp;&nbsp;&nbsp; d) isinstance() <br>\n",
    " &nbsp;&nbsp;&nbsp;&nbsp; e) abs() <br>\n",
    "12) Try and Except <br>\n",
    "13) Lists <br>\n",
    " &nbsp;&nbsp;&nbsp;&nbsp; a) Declaring Lists <br>\n",
    " &nbsp;&nbsp;&nbsp;&nbsp; b) Indexing a List <br>\n",
    " &nbsp;&nbsp;&nbsp;&nbsp; c) .append() <br>\n",
    " &nbsp;&nbsp;&nbsp;&nbsp; d) .insert() <br>\n",
    " &nbsp;&nbsp;&nbsp;&nbsp; e) .pop() <br>\n",
    " &nbsp;&nbsp;&nbsp;&nbsp; f) .remove() <br>\n",
    " &nbsp;&nbsp;&nbsp;&nbsp; g) del() <br>\n",
    " &nbsp;&nbsp;&nbsp;&nbsp; h) Concatenating Two Lists <br>\n",
    " &nbsp;&nbsp;&nbsp;&nbsp; i) Lists Within Lists <br>\n",
    " &nbsp;&nbsp;&nbsp;&nbsp; j) Looping Through Lists <br>"
   ]
  },
  {
   "cell_type": "markdown",
   "metadata": {},
   "source": [
    "### Int & Float Assignments"
   ]
  },
  {
   "cell_type": "markdown",
   "metadata": {},
   "source": [
    "##### Assigning int"
   ]
  },
  {
   "cell_type": "code",
   "execution_count": 1,
   "metadata": {},
   "outputs": [
    {
     "name": "stdout",
     "output_type": "stream",
     "text": [
      "6\n"
     ]
    }
   ],
   "source": [
    "number = 6\n",
    "\n",
    "print(number)"
   ]
  },
  {
   "cell_type": "markdown",
   "metadata": {},
   "source": [
    "##### Assinging float"
   ]
  },
  {
   "cell_type": "code",
   "execution_count": 5,
   "metadata": {},
   "outputs": [
    {
     "name": "stdout",
     "output_type": "stream",
     "text": [
      "7.2\n"
     ]
    }
   ],
   "source": [
    "number_float = 2.3\n",
    "number_float = 7.2\n",
    "print(number_float)\n"
   ]
  },
  {
   "cell_type": "markdown",
   "metadata": {},
   "source": [
    "#### Performing Calculations on ints and floats"
   ]
  },
  {
   "cell_type": "markdown",
   "metadata": {},
   "source": [
    "##### Addition"
   ]
  },
  {
   "cell_type": "code",
   "execution_count": 6,
   "metadata": {},
   "outputs": [
    {
     "name": "stdout",
     "output_type": "stream",
     "text": [
      "9.2\n"
     ]
    }
   ],
   "source": [
    "num_1 = 2 \n",
    "num_2 = 5.2\n",
    "result = num_1 + num_2\n",
    "\n",
    "result += 2\n",
    "print(result)\n"
   ]
  },
  {
   "cell_type": "markdown",
   "metadata": {},
   "source": [
    "##### Subtraction"
   ]
  },
  {
   "cell_type": "code",
   "execution_count": 9,
   "metadata": {},
   "outputs": [
    {
     "name": "stdout",
     "output_type": "stream",
     "text": [
      "3.2\n",
      "1.2000000000000002\n"
     ]
    }
   ],
   "source": [
    "result_diff = num_2 - num_1\n",
    "print(result_diff)\n",
    "\n",
    "result_diff -= 1\n",
    "print(result_diff-1)"
   ]
  },
  {
   "cell_type": "markdown",
   "metadata": {},
   "source": [
    "##### Multiplication"
   ]
  },
  {
   "cell_type": "code",
   "execution_count": 10,
   "metadata": {},
   "outputs": [
    {
     "name": "stdout",
     "output_type": "stream",
     "text": [
      "41.6\n"
     ]
    }
   ],
   "source": [
    "result_mul = num_2 * num_1\n",
    "result_mul *= 4\n",
    "print(result_mul)"
   ]
  },
  {
   "cell_type": "markdown",
   "metadata": {},
   "source": [
    "##### Division"
   ]
  },
  {
   "cell_type": "code",
   "execution_count": 12,
   "metadata": {},
   "outputs": [
    {
     "name": "stdout",
     "output_type": "stream",
     "text": [
      "1.3\n"
     ]
    }
   ],
   "source": [
    "result_div = num_2  / num_1\n",
    "result_div /= 2\n",
    "print(result_div)"
   ]
  },
  {
   "cell_type": "markdown",
   "metadata": {},
   "source": [
    "##### Floor Division"
   ]
  },
  {
   "cell_type": "raw",
   "metadata": {},
   "source": [
    "result_floor = num_2 // num_1\n",
    "print(result_floor)\n"
   ]
  },
  {
   "cell_type": "markdown",
   "metadata": {},
   "source": [
    "##### Modulo"
   ]
  },
  {
   "cell_type": "code",
   "execution_count": 14,
   "metadata": {},
   "outputs": [
    {
     "name": "stdout",
     "output_type": "stream",
     "text": [
      "1.2000000000000002\n"
     ]
    }
   ],
   "source": [
    "result_mod = num_2 % num_1\n",
    "print(result_mod)"
   ]
  },
  {
   "cell_type": "markdown",
   "metadata": {},
   "source": [
    "##### Exponential"
   ]
  },
  {
   "cell_type": "code",
   "execution_count": 17,
   "metadata": {},
   "outputs": [
    {
     "name": "stdout",
     "output_type": "stream",
     "text": [
      "531441\n"
     ]
    }
   ],
   "source": [
    "result = 3 **3\n",
    "result  **= 4\n",
    "print(result)"
   ]
  },
  {
   "cell_type": "markdown",
   "metadata": {},
   "source": [
    "### String Input-Output"
   ]
  },
  {
   "cell_type": "markdown",
   "metadata": {},
   "source": [
    "##### String Assignment"
   ]
  },
  {
   "cell_type": "code",
   "execution_count": 18,
   "metadata": {},
   "outputs": [
    {
     "name": "stdout",
     "output_type": "stream",
     "text": [
      "Joel\n"
     ]
    }
   ],
   "source": [
    "name = \"Joel\"\n",
    "print(name)"
   ]
  },
  {
   "cell_type": "markdown",
   "metadata": {},
   "source": [
    "##### print() <br>\n",
    "<p>Don't forget about end=' '</p>"
   ]
  },
  {
   "cell_type": "code",
   "execution_count": 22,
   "metadata": {},
   "outputs": [
    {
     "name": "stdout",
     "output_type": "stream",
     "text": [
      "My first name is  Joel\n",
      "Full name:  Joel Matip"
     ]
    }
   ],
   "source": [
    "print ( \"My first name is \",  name)\n",
    "print(\"Full name: \", name , end=\" Matip\")"
   ]
  },
  {
   "cell_type": "markdown",
   "metadata": {},
   "source": [
    "##### String Concatenation"
   ]
  },
  {
   "cell_type": "code",
   "execution_count": 27,
   "metadata": {},
   "outputs": [
    {
     "name": "stdout",
     "output_type": "stream",
     "text": [
      "Joel Matip\n",
      "Joel Matip , Jr\n"
     ]
    }
   ],
   "source": [
    "first_name = \"Joel\"\n",
    "last_name = \"Matip\"\n",
    "full_name = first_name + \" \" + last_name\n",
    "print(full_name)\n",
    "\n",
    "full_name += \" , Jr\"\n",
    "print(full_name)"
   ]
  },
  {
   "cell_type": "markdown",
   "metadata": {},
   "source": [
    "##### Type Conversion"
   ]
  },
  {
   "cell_type": "code",
   "execution_count": 28,
   "metadata": {},
   "outputs": [
    {
     "name": "stdout",
     "output_type": "stream",
     "text": [
      "6\n"
     ]
    }
   ],
   "source": [
    "number = \"6\"\n",
    "print(int(number))"
   ]
  },
  {
   "cell_type": "markdown",
   "metadata": {},
   "source": [
    "##### input()"
   ]
  },
  {
   "cell_type": "code",
   "execution_count": 31,
   "metadata": {},
   "outputs": [
    {
     "name": "stdout",
     "output_type": "stream",
     "text": [
      "What is your age? 45\n",
      "50\n"
     ]
    }
   ],
   "source": [
    "age = int(input(\"What is your age? \"))\n",
    "add_age = age + 5\n",
    "print(add_age)"
   ]
  },
  {
   "cell_type": "markdown",
   "metadata": {},
   "source": [
    "##### format()"
   ]
  },
  {
   "cell_type": "code",
   "execution_count": 35,
   "metadata": {},
   "outputs": [
    {
     "name": "stdout",
     "output_type": "stream",
     "text": [
      "Please enter your age : 44\n",
      "44 is a great age!!!\n"
     ]
    }
   ],
   "source": [
    "age = input(\"Please enter your age : \")\n",
    "result_string = f\"{age} is a great age!!!\"\n",
    "print(result_string)"
   ]
  },
  {
   "cell_type": "markdown",
   "metadata": {},
   "source": [
    "##### Old Way (python 2)"
   ]
  },
  {
   "cell_type": "code",
   "execution_count": 36,
   "metadata": {},
   "outputs": [
    {
     "name": "stdout",
     "output_type": "stream",
     "text": [
      "You are 44 and you look great! \n"
     ]
    }
   ],
   "source": [
    "result_string2 = \"You are %s and you look great! \"%age\n",
    "print(result_string2)\n"
   ]
  },
  {
   "cell_type": "markdown",
   "metadata": {},
   "source": [
    "# In-Class Exercise 1 <br>\n",
    "<p>Create a format statement that asks for color, year, make, model and prints out the results</p>"
   ]
  },
  {
   "cell_type": "code",
   "execution_count": 38,
   "metadata": {},
   "outputs": [
    {
     "name": "stdout",
     "output_type": "stream",
     "text": [
      "What is your  name? Farrukh\n",
      "What color is your car? white\n",
      "What is the year of your car? 2016\n",
      "Can you tell me the make of your car? Toyota\n",
      "What model is your car? Camru\\y\n",
      "Farrukh, your white  Toyota  Camru\\y  2016 is great!\n"
     ]
    }
   ],
   "source": [
    "name = input(\"What is your  name? \")\n",
    "color = input(\"What color is your car? \")\n",
    "year = input(\"What is the year of your car? \")\n",
    "make = input (\"Can you tell me the make of your car? \")\n",
    "model = input(\"What model is your car? \")\n",
    "car = f\"{name}, your {color}  {make}  {model}  {year} is great!\"\n",
    "print(car)"
   ]
  },
  {
   "cell_type": "markdown",
   "metadata": {},
   "source": [
    "### If Statements"
   ]
  },
  {
   "cell_type": "code",
   "execution_count": 43,
   "metadata": {},
   "outputs": [
    {
     "name": "stdout",
     "output_type": "stream",
     "text": [
      "True\n"
     ]
    }
   ],
   "source": [
    "# Available operators: Greater(>), Less(<),Equal(==)\n",
    "# Greater or Equal(>=), Less or Equal (<=)\n",
    "\n",
    "# Truth Tree:\n",
    "# T && F = F\n",
    "# T && T = T\n",
    "# T || F = T\n",
    "# F || T = T\n",
    "# F || F = F\n",
    "\n",
    "number1 = 5 \n",
    "number2 = 7\n",
    "number3 = 0\n",
    "if number1 == number2 or number3 > 4:\n",
    "    print(\"Incorrect\")\n",
    "else:\n",
    "    print(\"True\")\n",
    "\n"
   ]
  },
  {
   "cell_type": "markdown",
   "metadata": {},
   "source": [
    "##### 'is' keyword"
   ]
  },
  {
   "cell_type": "code",
   "execution_count": 44,
   "metadata": {
    "scrolled": true
   },
   "outputs": [
    {
     "name": "stdout",
     "output_type": "stream",
     "text": [
      "True\n"
     ]
    },
    {
     "name": "stderr",
     "output_type": "stream",
     "text": [
      "<>:2: SyntaxWarning: \"is\" with a literal. Did you mean \"==\"?\n",
      "<>:2: SyntaxWarning: \"is\" with a literal. Did you mean \"==\"?\n",
      "/var/folders/m9/qv_p3n_n2sscdzq8kyrtqtf80000gn/T/ipykernel_30083/2001732531.py:2: SyntaxWarning: \"is\" with a literal. Did you mean \"==\"?\n",
      "  if number is 5 :\n"
     ]
    }
   ],
   "source": [
    "number = 5\n",
    "if number is 5 :\n",
    "    print(\"True\")\n"
   ]
  },
  {
   "cell_type": "markdown",
   "metadata": {},
   "source": [
    "##### 'in' keyword"
   ]
  },
  {
   "cell_type": "code",
   "execution_count": 49,
   "metadata": {},
   "outputs": [
    {
     "name": "stdout",
     "output_type": "stream",
     "text": [
      "True\n"
     ]
    }
   ],
   "source": [
    "letter = \"Aziza\"\n",
    "if \"z\" in letter:\n",
    "    print(\"True\")"
   ]
  },
  {
   "cell_type": "markdown",
   "metadata": {},
   "source": [
    "##### 'not in' keyword'"
   ]
  },
  {
   "cell_type": "code",
   "execution_count": 51,
   "metadata": {},
   "outputs": [
    {
     "name": "stdout",
     "output_type": "stream",
     "text": [
      "True\n"
     ]
    }
   ],
   "source": [
    " name = \"Farrukh\"\n",
    "if \"z\" not in name:\n",
    "        print(\"True\")"
   ]
  },
  {
   "cell_type": "markdown",
   "metadata": {},
   "source": [
    "# In-Class Exercise 2 <br>\n",
    "<p>Ask user for input, check to see if the letter 'p' is in the input</p>"
   ]
  },
  {
   "cell_type": "code",
   "execution_count": 55,
   "metadata": {},
   "outputs": [
    {
     "name": "stdout",
     "output_type": "stream",
     "text": [
      "What is your name: Chaplin\n",
      "The letter 'p' is here!\n"
     ]
    }
   ],
   "source": [
    "name = input(\"What is your name: \")\n",
    "if \"p\" in name:\n",
    "    print(\"The letter 'p' is here!\")\n",
    "else:\n",
    "    print(\"The letter 'p' is not here!\")"
   ]
  },
  {
   "cell_type": "markdown",
   "metadata": {},
   "source": [
    "## Using 'and'/'or' with If Statements"
   ]
  },
  {
   "cell_type": "code",
   "execution_count": 56,
   "metadata": {},
   "outputs": [
    {
     "name": "stdout",
     "output_type": "stream",
     "text": [
      "True and True\n",
      "True and False\n"
     ]
    }
   ],
   "source": [
    "num_1 = 20\n",
    "num_2 = 4\n",
    "num_3 = 10 \n",
    "num_4 = 5\n",
    "\n",
    "# and\n",
    "if num_1 / 5 == num_2 and num_3 - 5 == num_4:\n",
    "    print(\"True and True\")\n",
    "    \n",
    "# or\n",
    "if num_1 > num_3 or num_2 == num_4:\n",
    "    print(\"True and False\")\n"
   ]
  },
  {
   "cell_type": "markdown",
   "metadata": {},
   "source": [
    "### Elif Statements"
   ]
  },
  {
   "cell_type": "code",
   "execution_count": 60,
   "metadata": {},
   "outputs": [
    {
     "name": "stdout",
     "output_type": "stream",
     "text": [
      "What is your name? John\n",
      "The name is John.\n"
     ]
    }
   ],
   "source": [
    "first_name = input(\"What is your name? \")\n",
    "\n",
    "if first_name == \"John\":\n",
    "    print(\"The name is John.\")\n",
    "if first_name == \"Robert\":\n",
    "    print(\"The name is Robert.\")\n",
    "if first_name != \"Bobby\":\n",
    "    \"The name is  not Bobby.\"\n",
    "else:\n",
    "    print(\"The name is Bobby.\")\n",
    "    \n",
    "    \n"
   ]
  },
  {
   "cell_type": "markdown",
   "metadata": {},
   "source": [
    "### Else Statements"
   ]
  },
  {
   "cell_type": "code",
   "execution_count": null,
   "metadata": {},
   "outputs": [],
   "source": [
    "# see above"
   ]
  },
  {
   "cell_type": "markdown",
   "metadata": {},
   "source": [
    "### For Loops"
   ]
  },
  {
   "cell_type": "code",
   "execution_count": 64,
   "metadata": {},
   "outputs": [
    {
     "name": "stdout",
     "output_type": "stream",
     "text": [
      "F\n",
      "a\n",
      "r\n",
      "r\n",
      "u\n",
      "k\n",
      "h\n",
      " \n",
      "R\n",
      "a\n",
      "j\n",
      "a\n",
      "b\n",
      "o\n",
      "v\n"
     ]
    }
   ],
   "source": [
    "name = \"Farrukh Rajabov\"\n",
    "for letter in name:\n",
    "    print(letter)"
   ]
  },
  {
   "cell_type": "markdown",
   "metadata": {},
   "source": [
    "##### Using 'in' keyword"
   ]
  },
  {
   "cell_type": "code",
   "execution_count": null,
   "metadata": {},
   "outputs": [],
   "source": [
    "# see above"
   ]
  },
  {
   "cell_type": "markdown",
   "metadata": {},
   "source": [
    "##### Continue Statement"
   ]
  },
  {
   "cell_type": "code",
   "execution_count": null,
   "metadata": {},
   "outputs": [],
   "source": [
    "# will continue to next iteration"
   ]
  },
  {
   "cell_type": "code",
   "execution_count": 67,
   "metadata": {},
   "outputs": [
    {
     "name": "stdout",
     "output_type": "stream",
     "text": [
      "0\n",
      "1\n",
      "2\n",
      "3\n",
      "4\n",
      "6\n",
      "7\n",
      "8\n",
      "9\n",
      "10\n",
      "11\n",
      "12\n",
      "13\n",
      "14\n",
      "15\n",
      "16\n",
      "17\n",
      "18\n",
      "19\n"
     ]
    }
   ],
   "source": [
    "for  i in range(20):\n",
    "    if i == 5:\n",
    "        continue\n",
    "    print(i)    "
   ]
  },
  {
   "cell_type": "markdown",
   "metadata": {},
   "source": [
    "##### Break Statement"
   ]
  },
  {
   "cell_type": "code",
   "execution_count": null,
   "metadata": {},
   "outputs": [],
   "source": [
    "# will break out of current loop"
   ]
  },
  {
   "cell_type": "code",
   "execution_count": 68,
   "metadata": {},
   "outputs": [
    {
     "name": "stdout",
     "output_type": "stream",
     "text": [
      "0\n",
      "1\n",
      "2\n",
      "3\n",
      "4\n",
      "5\n",
      "6\n",
      "7\n",
      "8\n",
      "9\n"
     ]
    }
   ],
   "source": [
    "for i in range(20):\n",
    "    if i ==10:\n",
    "        break\n",
    "    print(i)    \n",
    "        "
   ]
  },
  {
   "cell_type": "markdown",
   "metadata": {},
   "source": [
    "##### Pass Statement"
   ]
  },
  {
   "cell_type": "code",
   "execution_count": null,
   "metadata": {},
   "outputs": [],
   "source": [
    "# mostly used as a placeholder, and will continue on same iteration"
   ]
  },
  {
   "cell_type": "code",
   "execution_count": null,
   "metadata": {},
   "outputs": [],
   "source": [
    "for i in range(20):\n",
    "    for i in range:\n",
    "        pass\n",
    "    "
   ]
  },
  {
   "cell_type": "markdown",
   "metadata": {},
   "source": [
    "##### Double For Loops"
   ]
  },
  {
   "cell_type": "code",
   "execution_count": 70,
   "metadata": {},
   "outputs": [
    {
     "name": "stdout",
     "output_type": "stream",
     "text": [
      "i=  0 j=  0\n",
      "i=  0 j=  1\n",
      "i=  0 j=  2\n",
      "i=  0 j=  3\n",
      "i=  0 j=  4\n",
      "i=  1 j=  0\n",
      "i=  1 j=  1\n",
      "i=  1 j=  2\n",
      "i=  1 j=  3\n",
      "i=  1 j=  4\n",
      "i=  2 j=  0\n",
      "i=  2 j=  1\n",
      "i=  2 j=  2\n",
      "i=  2 j=  3\n",
      "i=  2 j=  4\n",
      "i=  3 j=  0\n",
      "i=  3 j=  1\n",
      "i=  3 j=  2\n",
      "i=  3 j=  3\n",
      "i=  3 j=  4\n",
      "i=  4 j=  0\n",
      "i=  4 j=  1\n",
      "i=  4 j=  2\n",
      "i=  4 j=  3\n",
      "i=  4 j=  4\n"
     ]
    }
   ],
   "source": [
    "for i in range (5):\n",
    "    for j in range(5):\n",
    "        print(\"i= \", i, \"j= \", j)"
   ]
  },
  {
   "cell_type": "markdown",
   "metadata": {},
   "source": [
    "### While Loops"
   ]
  },
  {
   "cell_type": "code",
   "execution_count": null,
   "metadata": {},
   "outputs": [],
   "source": [
    "num = 0\n",
    "\n",
    "while num < 5:\n",
    "    print(num)\n",
    "    num += 1"
   ]
  },
  {
   "cell_type": "markdown",
   "metadata": {},
   "source": [
    "##### Looping 'While True'"
   ]
  },
  {
   "cell_type": "code",
   "execution_count": 77,
   "metadata": {},
   "outputs": [
    {
     "name": "stdout",
     "output_type": "stream",
     "text": [
      "Infinite Loop\n",
      "Would you like to stop? No\n",
      "Infinite Loop\n",
      "Would you like to stop? Yes\n"
     ]
    }
   ],
   "source": [
    "game_over= True\n",
    "while game_over:\n",
    "    print(\"Infinite Loop\")\n",
    "    user_input = input(\"Would you like to stop? \")\n",
    "    if user_input == \"Yes\":\n",
    "        game_over= False\n",
    "        "
   ]
  },
  {
   "cell_type": "markdown",
   "metadata": {},
   "source": [
    "##### While & For Loops Used Together"
   ]
  },
  {
   "cell_type": "code",
   "execution_count": 1,
   "metadata": {},
   "outputs": [],
   "source": [
    "from IPython.display import clear_output\n",
    "\n",
    "#num = 0\n",
    "\n",
    "#while num < 5:\n",
    "    #print(\"\\nWhile loop iteration: \" + str(num))\n",
    "    \n",
    "#for i in range(2):\n",
    "    #print(\"\\nFor loop iteration: \" + str(i+1))\n",
    "    \n",
    "    #num += 1\n",
    "\n"
   ]
  },
  {
   "cell_type": "markdown",
   "metadata": {},
   "source": [
    "### Built-In Functions"
   ]
  },
  {
   "cell_type": "markdown",
   "metadata": {},
   "source": [
    "##### range()"
   ]
  },
  {
   "cell_type": "code",
   "execution_count": 4,
   "metadata": {},
   "outputs": [
    {
     "name": "stdout",
     "output_type": "stream",
     "text": [
      "1\n",
      "4\n",
      "7\n",
      "10\n",
      "13\n",
      "16\n",
      "19\n"
     ]
    }
   ],
   "source": [
    "for i in range(1,20,3):\n",
    "    print(i)"
   ]
  },
  {
   "cell_type": "markdown",
   "metadata": {},
   "source": [
    "##### len()"
   ]
  },
  {
   "cell_type": "code",
   "execution_count": 5,
   "metadata": {},
   "outputs": [
    {
     "name": "stdout",
     "output_type": "stream",
     "text": [
      "What is your favorite book? Harry Potter\n",
      "12\n"
     ]
    }
   ],
   "source": [
    "name = input(\"What is your favorite book? \")\n",
    "length = len(name)\n",
    "print(length)"
   ]
  },
  {
   "cell_type": "markdown",
   "metadata": {},
   "source": [
    "##### help()"
   ]
  },
  {
   "cell_type": "code",
   "execution_count": null,
   "metadata": {},
   "outputs": [],
   "source": [
    "help(length)"
   ]
  },
  {
   "cell_type": "markdown",
   "metadata": {},
   "source": [
    "##### isinstance()"
   ]
  },
  {
   "cell_type": "code",
   "execution_count": null,
   "metadata": {},
   "outputs": [],
   "source": [
    "# check variable family or data type\n",
    "num = 4.5\n",
    "if isinstance(num,int):\n",
    "    print(f\"{num} is an int!\")\n",
    "else:\n",
    "    print(f\"{num} is a float!\")\n"
   ]
  },
  {
   "cell_type": "markdown",
   "metadata": {},
   "source": [
    "##### abs()"
   ]
  },
  {
   "cell_type": "code",
   "execution_count": 8,
   "metadata": {},
   "outputs": [
    {
     "name": "stdout",
     "output_type": "stream",
     "text": [
      "5\n"
     ]
    }
   ],
   "source": [
    "# |-5| = 5\n",
    "print(abs(-5))\n"
   ]
  },
  {
   "cell_type": "markdown",
   "metadata": {},
   "source": [
    "### Try and Except"
   ]
  },
  {
   "cell_type": "code",
   "execution_count": 11,
   "metadata": {},
   "outputs": [
    {
     "name": "stdout",
     "output_type": "stream",
     "text": [
      "Pick a number: 5\n",
      "Your number is 5\n"
     ]
    }
   ],
   "source": [
    "# use to log out error messages\n",
    "try:\n",
    "    input_num = int(input(\"Pick a number: \"))\n",
    "    print(\"Your number is \" + str(input_num))\n",
    "except:\n",
    "    print(\"That didn't work! Change your input into a number.\")"
   ]
  },
  {
   "cell_type": "markdown",
   "metadata": {},
   "source": [
    "### Lists"
   ]
  },
  {
   "cell_type": "markdown",
   "metadata": {},
   "source": [
    "##### Declaring Lists"
   ]
  },
  {
   "cell_type": "code",
   "execution_count": 12,
   "metadata": {},
   "outputs": [
    {
     "name": "stdout",
     "output_type": "stream",
     "text": [
      "['John', 'Robert', 'Bob', 'Bobby', 'Robby']\n"
     ]
    }
   ],
   "source": [
    "list_1 = []\n",
    "\n",
    "names = [\"John\", \"Robert\", \"Bob\", \"Bobby\", \"Robby\"]\n",
    "print(names)"
   ]
  },
  {
   "cell_type": "markdown",
   "metadata": {},
   "source": [
    "##### Indexing a List"
   ]
  },
  {
   "cell_type": "code",
   "execution_count": 18,
   "metadata": {},
   "outputs": [
    {
     "name": "stdout",
     "output_type": "stream",
     "text": [
      "Robert\n",
      "['Robert', 'Bob', 'Bobby', 'Robby']\n",
      "['John', 'Robert']\n",
      "['Robert', 'Bobby']\n",
      "['Robby', 'Bobby', 'Bob', 'Robert', 'John']\n"
     ]
    }
   ],
   "source": [
    "# list_name (start: stop: step:)\n",
    "\n",
    "# Single Index\n",
    "print(names[1])\n",
    "\n",
    "# Print starting at index 1 going to the end\n",
    "print(names[1:])\n",
    "\n",
    "# Print starting from the beginning of a list until up a number\n",
    "print(names[:2])\n",
    "\n",
    "# Print starting at index 1 and going up by 2 each iteration\n",
    "print(names[1::2])\n",
    "\n",
    "# Print stating at the back and display in reverse order\n",
    "print(names[::-1])"
   ]
  },
  {
   "cell_type": "markdown",
   "metadata": {},
   "source": [
    "##### .append()"
   ]
  },
  {
   "cell_type": "code",
   "execution_count": 19,
   "metadata": {},
   "outputs": [
    {
     "name": "stdout",
     "output_type": "stream",
     "text": [
      "['John', 'Robert', 'Bob', 'Bobby', 'Robby', 'Gerard']\n"
     ]
    }
   ],
   "source": [
    "names.append(\"Gerard\")\n",
    "print(names)"
   ]
  },
  {
   "cell_type": "markdown",
   "metadata": {},
   "source": [
    "##### .insert()"
   ]
  },
  {
   "cell_type": "code",
   "execution_count": 20,
   "metadata": {},
   "outputs": [
    {
     "name": "stdout",
     "output_type": "stream",
     "text": [
      "['John', 'Robert', 'Bob', 'Jamie', 'Bobby', 'Robby', 'Gerard']\n"
     ]
    }
   ],
   "source": [
    "names.insert(3,\"Jamie\")\n",
    "print(names)"
   ]
  },
  {
   "cell_type": "markdown",
   "metadata": {},
   "source": [
    "##### .pop()"
   ]
  },
  {
   "cell_type": "code",
   "execution_count": 21,
   "metadata": {},
   "outputs": [
    {
     "name": "stdout",
     "output_type": "stream",
     "text": [
      "Jamie\n",
      "['John', 'Robert', 'Bob', 'Bobby', 'Robby', 'Gerard']\n"
     ]
    }
   ],
   "source": [
    "my_name = names.pop(3)\n",
    "print(my_name)\n",
    "print(names)"
   ]
  },
  {
   "cell_type": "markdown",
   "metadata": {},
   "source": [
    "\n",
    "##### .remove()"
   ]
  },
  {
   "cell_type": "code",
   "execution_count": 23,
   "metadata": {},
   "outputs": [
    {
     "name": "stdout",
     "output_type": "stream",
     "text": [
      "['John', 'Robert', 'Bob', 'Bobby', 'Robby']\n"
     ]
    }
   ],
   "source": [
    "# Value to be removed rather than index\n",
    "while \"Gerard\" in names:\n",
    "    names.remove(\"Gerard\")\n",
    "print(names)\n"
   ]
  },
  {
   "cell_type": "markdown",
   "metadata": {},
   "source": [
    "##### del()"
   ]
  },
  {
   "cell_type": "code",
   "execution_count": 24,
   "metadata": {},
   "outputs": [
    {
     "name": "stdout",
     "output_type": "stream",
     "text": [
      "['John', 'Robert', 'Bob', 'Bobby']\n"
     ]
    }
   ],
   "source": [
    "# Goes by index , rather than value\n",
    "# Be careful with del , it can cause index errors if not used carefully\n",
    "del(names[4])\n",
    "print(names)"
   ]
  },
  {
   "cell_type": "markdown",
   "metadata": {},
   "source": [
    "##### Concatenating Two Lists"
   ]
  },
  {
   "cell_type": "code",
   "execution_count": 25,
   "metadata": {},
   "outputs": [
    {
     "name": "stdout",
     "output_type": "stream",
     "text": [
      "[1, 2, 3, 4, 5, 6]\n"
     ]
    }
   ],
   "source": [
    "list_1 = [1,2,3]\n",
    "list_2 = [4,5,6]\n",
    "large_list = list_1 + list_2\n",
    "print(large_list)"
   ]
  },
  {
   "cell_type": "markdown",
   "metadata": {},
   "source": [
    "##### Lists Within Lists"
   ]
  },
  {
   "cell_type": "code",
   "execution_count": 41,
   "metadata": {},
   "outputs": [
    {
     "name": "stdout",
     "output_type": "stream",
     "text": [
      "['Darwin', 'Mo', 'Virgil', ['Roberto', ['Jordan', 'Andrew'], 'Trent']]\n",
      "Andrew\n"
     ]
    }
   ],
   "source": [
    "names = [\"Darwin\", \"Mo\", \"Virgil\", [\"Roberto\",[\"Jordan\",\"Andrew\"], \"Trent\"]]\n",
    "print(names)\n",
    "print(names[3][1][1])"
   ]
  },
  {
   "cell_type": "markdown",
   "metadata": {},
   "source": [
    "##### Looping Through Lists"
   ]
  },
  {
   "cell_type": "code",
   "execution_count": 45,
   "metadata": {},
   "outputs": [
    {
     "name": "stdout",
     "output_type": "stream",
     "text": [
      "Darwin\n",
      "Mo\n",
      "Virgil\n",
      "['Roberto', ['Jordan', 'Andrew'], 'Trent']\n",
      "Darwin\n",
      "Mo\n",
      "Virgil\n",
      "['Roberto', ['Jordan', 'Andrew'], 'Trent']\n"
     ]
    }
   ],
   "source": [
    "# Two ways of looping one by index and by \"in\" keyword\n",
    "\n",
    "# by index\n",
    "for i in range(len(names)):\n",
    "    print(names[i])\n",
    "\n",
    "# loop with \"in\" \n",
    "for i in names:\n",
    "    print(i)"
   ]
  },
  {
   "cell_type": "markdown",
   "metadata": {},
   "source": [
    "## Exercise #1 <br>\n",
    "<p>Cube Number Test... Print out all cubed numbers up to the total value 1000. Meaning that if the cubed number is over 1000 break the loop.</p>"
   ]
  },
  {
   "cell_type": "code",
   "execution_count": 4,
   "metadata": {},
   "outputs": [
    {
     "name": "stdout",
     "output_type": "stream",
     "text": [
      "1,8,27,64,125,216,343,512,729,1000,"
     ]
    }
   ],
   "source": [
    "# cubes up to 1000, if over break the loop\n",
    "cubes = []\n",
    "for number in range(1, 15):\n",
    "    cube = number**3\n",
    "    cubes.append(cube)\n",
    "\n",
    "for cube in cubes:\n",
    "    if cube > 1000:\n",
    "        break\n",
    "    \n",
    "    print(cube, end=\",\")\n"
   ]
  },
  {
   "cell_type": "markdown",
   "metadata": {},
   "source": [
    "## Exercise #2 <br>\n",
    "<p>Get first prime numbers up to 100</p>"
   ]
  },
  {
   "cell_type": "code",
   "execution_count": 5,
   "metadata": {},
   "outputs": [
    {
     "name": "stdout",
     "output_type": "stream",
     "text": [
      "2\n",
      "3\n",
      "5\n",
      "7\n",
      "11\n",
      "13\n",
      "17\n",
      "19\n",
      "23\n",
      "29\n",
      "31\n",
      "37\n",
      "41\n",
      "43\n",
      "47\n",
      "53\n",
      "59\n",
      "61\n",
      "67\n",
      "71\n",
      "73\n",
      "79\n",
      "83\n",
      "89\n",
      "97\n"
     ]
    }
   ],
   "source": [
    "# HINT::\n",
    "# An else after an if runs if the if didn’t\n",
    "# An else after a for runs if the for didn’t break\n",
    "\n",
    "for i in range(2,101):\n",
    "    for n in range (2,101):\n",
    "        if i%n == 0:\n",
    "            break\n",
    "    if i == n:\n",
    "        print(i)\n",
    "    \n",
    "\n",
    " \n",
    "\n",
    "\n",
    "\n"
   ]
  },
  {
   "cell_type": "markdown",
   "metadata": {},
   "source": [
    "# Exercise 3 <br>\n",
    "<p>Take in a users input for their age, if they are younger than 18 print kids, if they're 18 to 65 print adults, else print seniors</p>"
   ]
  },
  {
   "cell_type": "code",
   "execution_count": 3,
   "metadata": {},
   "outputs": [
    {
     "name": "stdout",
     "output_type": "stream",
     "text": [
      "How old are you? 100\n",
      "You are a senior!\n"
     ]
    }
   ],
   "source": [
    "# age < 18 = kids; age <= 65 = adults; else = seniors;\n",
    "\n",
    "age = int(input(\"How old are you? \"))\n",
    "\n",
    "# kids\n",
    "if age < 18:\n",
    "    print(\"You are still a kid!\")\n",
    "    \n",
    "# adults\n",
    "elif age <= 65:\n",
    "    print(\"You are an adult!\")\n",
    "    \n",
    "# senior\n",
    "else:\n",
    "    print(\"You are a senior!\")\n",
    "    \n",
    "    \n",
    "    \n",
    "    \n",
    "\n"
   ]
  },
  {
   "cell_type": "code",
   "execution_count": null,
   "metadata": {},
   "outputs": [],
   "source": []
  },
  {
   "cell_type": "markdown",
   "metadata": {},
   "source": []
  }
 ],
 "metadata": {
  "kernelspec": {
   "display_name": "Python 3 (ipykernel)",
   "language": "python",
   "name": "python3"
  },
  "language_info": {
   "codemirror_mode": {
    "name": "ipython",
    "version": 3
   },
   "file_extension": ".py",
   "mimetype": "text/x-python",
   "name": "python",
   "nbconvert_exporter": "python",
   "pygments_lexer": "ipython3",
   "version": "3.9.13"
  },
  "vscode": {
   "interpreter": {
    "hash": "aee8b7b246df8f9039afb4144a1f6fd8d2ca17a180786b69acc140d282b71a49"
   }
  }
 },
 "nbformat": 4,
 "nbformat_minor": 2
}
